{
 "cells": [
  {
   "cell_type": "code",
   "execution_count": 13,
   "metadata": {},
   "outputs": [],
   "source": [
    "import json\n",
    "import csv\n",
    "import tweepy\n",
    "import re\n",
    "import os"
   ]
  },
  {
   "cell_type": "code",
   "execution_count": 14,
   "metadata": {},
   "outputs": [],
   "source": [
    "from nltk.corpus import stopwords\n",
    "from nltk.tokenize import word_tokenize"
   ]
  },
  {
   "cell_type": "code",
   "execution_count": 15,
   "metadata": {},
   "outputs": [],
   "source": [
    "stop_words = set(stopwords.words('english'))"
   ]
  },
  {
   "cell_type": "code",
   "execution_count": 16,
   "metadata": {},
   "outputs": [],
   "source": [
    "consumer_key = ''\n",
    "consumer_secret =''\n",
    "access_token = ''\n",
    "access_token_secret = ''"
   ]
  },
  {
   "cell_type": "code",
   "execution_count": 17,
   "metadata": {},
   "outputs": [],
   "source": [
    "def search_for_phrase(consumer_key, consumer_secret, access_token, access_token_secret, phrase):\n",
    "    \n",
    "    # create authentication (accessing Twitter)\n",
    "    auth = tweepy.OAuthHandler(consumer_key, consumer_secret)\n",
    "    auth.set_access_token(access_token, access_token_secret)\n",
    "\n",
    "    # initialize Tweepy API\n",
    "    api = tweepy.API(auth)\n",
    "    \n",
    "    # set filename (based on the phrase we're searching for)\n",
    "    filename = phrase + '.csv'\n",
    "    \n",
    "    # open the csv we will write to\n",
    "    with open(filename, 'a') as file:\n",
    "\n",
    "        w = csv.writer(file)\n",
    "        \n",
    "        # write header row to csv if the file is empty\n",
    "        if(os.path.getsize(filename) == 0):\n",
    "            w.writerow(['tweet_id', 'timestamp', 'user_id', 'tweet_text'])\n",
    "\n",
    "\n",
    "        #for each tweet matching our phrase, gather the relevant info\n",
    "        for tweet in tweepy.Cursor(api.search, q=phrase+' -filter:retweets', \\\n",
    "                                   lang=\"en\", tweet_mode='extended').items(150):\n",
    "            \n",
    "            # removing stop words\n",
    "            tweet_text = tweet.full_text.replace('\\n',' ')\n",
    "            text_tokens = word_tokenize(tweet_text)\n",
    "            clean_tweet_text = [w for w in text_tokens if not w in stop_words]\n",
    "            \n",
    "            # convert list object to string\n",
    "            clean_tweet_string = ' '.join([str(elem) for elem in clean_tweet_text])\n",
    "\n",
    "            # remove numbers\n",
    "            no_num = ''.join([num for num in clean_tweet_string if not num.isdigit()])\n",
    "            \n",
    "            # remove punctuations\n",
    "            no_punc = re.sub(r'[^\\w\\s]','', no_num)\n",
    "            \n",
    "            # remove words that less than 2 characters\n",
    "            final_string = ' '.join(word for word in no_punc.split() if len(word)>1)\n",
    "\n",
    "            w.writerow([\n",
    "                tweet.id,\n",
    "                tweet.created_at.isoformat(),\n",
    "                tweet.user.id,\n",
    "                final_string.encode('utf-8').strip()\n",
    "            ])"
   ]
  },
  {
   "cell_type": "code",
   "execution_count": 18,
   "metadata": {
    "scrolled": true
   },
   "outputs": [],
   "source": [
    "if __name__ == '__main__':\n",
    "    \n",
    "    # the phrases to search for\n",
    "    phrases = ['altcoin', 'bitcoin', 'coindesk', 'cryptocurrency', 'gold', 'aapl', 'goog', 'yhoo']\n",
    "    \n",
    "    # search for each phrase\n",
    "    for ph in phrases:\n",
    "        search_for_phrase(consumer_key, consumer_secret, access_token, access_token_secret, ph)"
   ]
  },
  {
   "cell_type": "code",
   "execution_count": null,
   "metadata": {},
   "outputs": [],
   "source": []
  }
 ],
 "metadata": {
  "kernelspec": {
   "display_name": "Python 3",
   "language": "python",
   "name": "python3"
  },
  "language_info": {
   "codemirror_mode": {
    "name": "ipython",
    "version": 3
   },
   "file_extension": ".py",
   "mimetype": "text/x-python",
   "name": "python",
   "nbconvert_exporter": "python",
   "pygments_lexer": "ipython3",
   "version": "3.8.5"
  }
 },
 "nbformat": 4,
 "nbformat_minor": 4
}
