{
 "cells": [
  {
   "cell_type": "code",
   "execution_count": 230,
   "metadata": {},
   "outputs": [],
   "source": [
    "import numpy as np\n",
    "from numpy.random import randn\n",
    "import pandas as pd\n",
    "from pandas import Series, DataFrame\n",
    "import datetime as datetime\n",
    "\n",
    "import matplotlib.pyplot as plt\n",
    "from matplotlib import rcParams\n",
    "import seaborn as sb"
   ]
  },
  {
   "cell_type": "code",
   "execution_count": 231,
   "metadata": {},
   "outputs": [],
   "source": [
    "# %matplotlib inline\n",
    "# rcParams['figure.figsize'] = 10, 8\n",
    "# sb.set_style('whitegrid')"
   ]
  },
  {
   "cell_type": "code",
   "execution_count": 232,
   "metadata": {},
   "outputs": [],
   "source": [
    "#Exploring the dataset\n",
    "dataset_title = 'yhoo'\n",
    "data = pd.read_csv(dataset_title + '.csv')"
   ]
  },
  {
   "cell_type": "code",
   "execution_count": 233,
   "metadata": {},
   "outputs": [
    {
     "data": {
      "text/plain": [
       "(2500, 4)"
      ]
     },
     "execution_count": 233,
     "metadata": {},
     "output_type": "execute_result"
    }
   ],
   "source": [
    "#The number of total tweets in the set\n",
    "\n",
    "data.shape"
   ]
  },
  {
   "cell_type": "code",
   "execution_count": 234,
   "metadata": {},
   "outputs": [
    {
     "data": {
      "text/html": [
       "<div>\n",
       "<style scoped>\n",
       "    .dataframe tbody tr th:only-of-type {\n",
       "        vertical-align: middle;\n",
       "    }\n",
       "\n",
       "    .dataframe tbody tr th {\n",
       "        vertical-align: top;\n",
       "    }\n",
       "\n",
       "    .dataframe thead th {\n",
       "        text-align: right;\n",
       "    }\n",
       "</style>\n",
       "<table border=\"1\" class=\"dataframe\">\n",
       "  <thead>\n",
       "    <tr style=\"text-align: right;\">\n",
       "      <th></th>\n",
       "      <th>tweet_id</th>\n",
       "      <th>timestamp</th>\n",
       "      <th>user_id</th>\n",
       "      <th>tweet_text</th>\n",
       "    </tr>\n",
       "  </thead>\n",
       "  <tbody>\n",
       "    <tr>\n",
       "      <th>0</th>\n",
       "      <td>1366268185977237508</td>\n",
       "      <td>2021-03-01T06:04:54</td>\n",
       "      <td>146402547</td>\n",
       "      <td>b'TshepoTsala KaizerChiefs Yhoo'</td>\n",
       "    </tr>\n",
       "    <tr>\n",
       "      <th>1</th>\n",
       "      <td>1366267439974088709</td>\n",
       "      <td>2021-03-01T06:01:56</td>\n",
       "      <td>444017554</td>\n",
       "      <td>b'Yhoo https tcoOcCEEoN'</td>\n",
       "    </tr>\n",
       "    <tr>\n",
       "      <th>2</th>\n",
       "      <td>1366267036951846913</td>\n",
       "      <td>2021-03-01T06:00:20</td>\n",
       "      <td>17852343</td>\n",
       "      <td>b'The Bachelor announces Chris Harrison replac...</td>\n",
       "    </tr>\n",
       "    <tr>\n",
       "      <th>3</th>\n",
       "      <td>1366266952503619584</td>\n",
       "      <td>2021-03-01T06:00:00</td>\n",
       "      <td>1278921298282868736</td>\n",
       "      <td>b'DAY StarvingForJustice Jawar one several key...</td>\n",
       "    </tr>\n",
       "    <tr>\n",
       "      <th>4</th>\n",
       "      <td>1366266876381306880</td>\n",
       "      <td>2021-03-01T05:59:41</td>\n",
       "      <td>1279137196306583552</td>\n",
       "      <td>b'DAY StarvingForJustice Jawar one several key...</td>\n",
       "    </tr>\n",
       "  </tbody>\n",
       "</table>\n",
       "</div>"
      ],
      "text/plain": [
       "              tweet_id            timestamp              user_id  \\\n",
       "0  1366268185977237508  2021-03-01T06:04:54            146402547   \n",
       "1  1366267439974088709  2021-03-01T06:01:56            444017554   \n",
       "2  1366267036951846913  2021-03-01T06:00:20             17852343   \n",
       "3  1366266952503619584  2021-03-01T06:00:00  1278921298282868736   \n",
       "4  1366266876381306880  2021-03-01T05:59:41  1279137196306583552   \n",
       "\n",
       "                                          tweet_text  \n",
       "0                   b'TshepoTsala KaizerChiefs Yhoo'  \n",
       "1                           b'Yhoo https tcoOcCEEoN'  \n",
       "2  b'The Bachelor announces Chris Harrison replac...  \n",
       "3  b'DAY StarvingForJustice Jawar one several key...  \n",
       "4  b'DAY StarvingForJustice Jawar one several key...  "
      ]
     },
     "execution_count": 234,
     "metadata": {},
     "output_type": "execute_result"
    }
   ],
   "source": [
    "data.head()"
   ]
  },
  {
   "cell_type": "code",
   "execution_count": 235,
   "metadata": {},
   "outputs": [
    {
     "data": {
      "text/plain": [
       "(1959, 4)"
      ]
     },
     "execution_count": 235,
     "metadata": {},
     "output_type": "execute_result"
    }
   ],
   "source": [
    "# Drop duplicate rows from the dataset\n",
    "\n",
    "data_new = data.drop_duplicates()\n",
    "data_new.shape"
   ]
  },
  {
   "cell_type": "code",
   "execution_count": 236,
   "metadata": {},
   "outputs": [
    {
     "data": {
      "text/html": [
       "<div>\n",
       "<style scoped>\n",
       "    .dataframe tbody tr th:only-of-type {\n",
       "        vertical-align: middle;\n",
       "    }\n",
       "\n",
       "    .dataframe tbody tr th {\n",
       "        vertical-align: top;\n",
       "    }\n",
       "\n",
       "    .dataframe thead th {\n",
       "        text-align: right;\n",
       "    }\n",
       "</style>\n",
       "<table border=\"1\" class=\"dataframe\">\n",
       "  <thead>\n",
       "    <tr style=\"text-align: right;\">\n",
       "      <th></th>\n",
       "      <th>tweet_id</th>\n",
       "      <th>timestamp</th>\n",
       "      <th>user_id</th>\n",
       "      <th>tweet_text</th>\n",
       "    </tr>\n",
       "  </thead>\n",
       "  <tbody>\n",
       "    <tr>\n",
       "      <th>0</th>\n",
       "      <td>1366268185977237508</td>\n",
       "      <td>2021-03-01T06:04:54</td>\n",
       "      <td>146402547</td>\n",
       "      <td>b'TshepoTsala KaizerChiefs Yhoo'</td>\n",
       "    </tr>\n",
       "    <tr>\n",
       "      <th>1</th>\n",
       "      <td>1366267439974088709</td>\n",
       "      <td>2021-03-01T06:01:56</td>\n",
       "      <td>444017554</td>\n",
       "      <td>b'Yhoo https tcoOcCEEoN'</td>\n",
       "    </tr>\n",
       "    <tr>\n",
       "      <th>2</th>\n",
       "      <td>1366267036951846913</td>\n",
       "      <td>2021-03-01T06:00:20</td>\n",
       "      <td>17852343</td>\n",
       "      <td>b'The Bachelor announces Chris Harrison replac...</td>\n",
       "    </tr>\n",
       "    <tr>\n",
       "      <th>3</th>\n",
       "      <td>1366266952503619584</td>\n",
       "      <td>2021-03-01T06:00:00</td>\n",
       "      <td>1278921298282868736</td>\n",
       "      <td>b'DAY StarvingForJustice Jawar one several key...</td>\n",
       "    </tr>\n",
       "    <tr>\n",
       "      <th>4</th>\n",
       "      <td>1366266876381306880</td>\n",
       "      <td>2021-03-01T05:59:41</td>\n",
       "      <td>1279137196306583552</td>\n",
       "      <td>b'DAY StarvingForJustice Jawar one several key...</td>\n",
       "    </tr>\n",
       "  </tbody>\n",
       "</table>\n",
       "</div>"
      ],
      "text/plain": [
       "              tweet_id            timestamp              user_id  \\\n",
       "0  1366268185977237508  2021-03-01T06:04:54            146402547   \n",
       "1  1366267439974088709  2021-03-01T06:01:56            444017554   \n",
       "2  1366267036951846913  2021-03-01T06:00:20             17852343   \n",
       "3  1366266952503619584  2021-03-01T06:00:00  1278921298282868736   \n",
       "4  1366266876381306880  2021-03-01T05:59:41  1279137196306583552   \n",
       "\n",
       "                                          tweet_text  \n",
       "0                   b'TshepoTsala KaizerChiefs Yhoo'  \n",
       "1                           b'Yhoo https tcoOcCEEoN'  \n",
       "2  b'The Bachelor announces Chris Harrison replac...  \n",
       "3  b'DAY StarvingForJustice Jawar one several key...  \n",
       "4  b'DAY StarvingForJustice Jawar one several key...  "
      ]
     },
     "execution_count": 236,
     "metadata": {},
     "output_type": "execute_result"
    }
   ],
   "source": [
    "data_new.head()"
   ]
  },
  {
   "cell_type": "code",
   "execution_count": 237,
   "metadata": {},
   "outputs": [
    {
     "name": "stderr",
     "output_type": "stream",
     "text": [
      "<ipython-input-237-41b884f4d895>:2: SettingWithCopyWarning: \n",
      "A value is trying to be set on a copy of a slice from a DataFrame.\n",
      "Try using .loc[row_indexer,col_indexer] = value instead\n",
      "\n",
      "See the caveats in the documentation: https://pandas.pydata.org/pandas-docs/stable/user_guide/indexing.html#returning-a-view-versus-a-copy\n",
      "  data_new['timestamp'] = pd.to_datetime(data_new['timestamp']).dt.normalize()\n"
     ]
    },
    {
     "data": {
      "text/html": [
       "<div>\n",
       "<style scoped>\n",
       "    .dataframe tbody tr th:only-of-type {\n",
       "        vertical-align: middle;\n",
       "    }\n",
       "\n",
       "    .dataframe tbody tr th {\n",
       "        vertical-align: top;\n",
       "    }\n",
       "\n",
       "    .dataframe thead th {\n",
       "        text-align: right;\n",
       "    }\n",
       "</style>\n",
       "<table border=\"1\" class=\"dataframe\">\n",
       "  <thead>\n",
       "    <tr style=\"text-align: right;\">\n",
       "      <th></th>\n",
       "      <th>tweet_id</th>\n",
       "      <th>timestamp</th>\n",
       "      <th>user_id</th>\n",
       "      <th>tweet_text</th>\n",
       "    </tr>\n",
       "  </thead>\n",
       "  <tbody>\n",
       "    <tr>\n",
       "      <th>0</th>\n",
       "      <td>1366268185977237508</td>\n",
       "      <td>2021-03-01</td>\n",
       "      <td>146402547</td>\n",
       "      <td>b'TshepoTsala KaizerChiefs Yhoo'</td>\n",
       "    </tr>\n",
       "    <tr>\n",
       "      <th>1</th>\n",
       "      <td>1366267439974088709</td>\n",
       "      <td>2021-03-01</td>\n",
       "      <td>444017554</td>\n",
       "      <td>b'Yhoo https tcoOcCEEoN'</td>\n",
       "    </tr>\n",
       "    <tr>\n",
       "      <th>2</th>\n",
       "      <td>1366267036951846913</td>\n",
       "      <td>2021-03-01</td>\n",
       "      <td>17852343</td>\n",
       "      <td>b'The Bachelor announces Chris Harrison replac...</td>\n",
       "    </tr>\n",
       "    <tr>\n",
       "      <th>3</th>\n",
       "      <td>1366266952503619584</td>\n",
       "      <td>2021-03-01</td>\n",
       "      <td>1278921298282868736</td>\n",
       "      <td>b'DAY StarvingForJustice Jawar one several key...</td>\n",
       "    </tr>\n",
       "    <tr>\n",
       "      <th>4</th>\n",
       "      <td>1366266876381306880</td>\n",
       "      <td>2021-03-01</td>\n",
       "      <td>1279137196306583552</td>\n",
       "      <td>b'DAY StarvingForJustice Jawar one several key...</td>\n",
       "    </tr>\n",
       "  </tbody>\n",
       "</table>\n",
       "</div>"
      ],
      "text/plain": [
       "              tweet_id  timestamp              user_id  \\\n",
       "0  1366268185977237508 2021-03-01            146402547   \n",
       "1  1366267439974088709 2021-03-01            444017554   \n",
       "2  1366267036951846913 2021-03-01             17852343   \n",
       "3  1366266952503619584 2021-03-01  1278921298282868736   \n",
       "4  1366266876381306880 2021-03-01  1279137196306583552   \n",
       "\n",
       "                                          tweet_text  \n",
       "0                   b'TshepoTsala KaizerChiefs Yhoo'  \n",
       "1                           b'Yhoo https tcoOcCEEoN'  \n",
       "2  b'The Bachelor announces Chris Harrison replac...  \n",
       "3  b'DAY StarvingForJustice Jawar one several key...  \n",
       "4  b'DAY StarvingForJustice Jawar one several key...  "
      ]
     },
     "execution_count": 237,
     "metadata": {},
     "output_type": "execute_result"
    }
   ],
   "source": [
    "# Removing the TIME from the timestamp so we can isolate the tweets by days\n",
    "data_new['timestamp'] = pd.to_datetime(data_new['timestamp']).dt.normalize()\n",
    "\n",
    "#view DataFrame\n",
    "data_new.head()"
   ]
  },
  {
   "cell_type": "code",
   "execution_count": 238,
   "metadata": {},
   "outputs": [
    {
     "data": {
      "text/plain": [
       "array(['2021-03-01T00:00:00.000000000', '2021-03-02T00:00:00.000000000',\n",
       "       '2021-03-03T00:00:00.000000000', '2021-03-04T00:00:00.000000000',\n",
       "       '2021-03-05T00:00:00.000000000', '2021-03-06T00:00:00.000000000',\n",
       "       '2021-03-07T00:00:00.000000000'], dtype='datetime64[ns]')"
      ]
     },
     "execution_count": 238,
     "metadata": {},
     "output_type": "execute_result"
    }
   ],
   "source": [
    "# Looking at the number of unique days\n",
    "\n",
    "unique_days = data_new['timestamp'].unique()\n",
    "unique_days"
   ]
  },
  {
   "cell_type": "code",
   "execution_count": 239,
   "metadata": {},
   "outputs": [
    {
     "name": "stderr",
     "output_type": "stream",
     "text": [
      "<ipython-input-239-c092347c438a>:2: SettingWithCopyWarning: \n",
      "A value is trying to be set on a copy of a slice from a DataFrame.\n",
      "Try using .loc[row_indexer,col_indexer] = value instead\n",
      "\n",
      "See the caveats in the documentation: https://pandas.pydata.org/pandas-docs/stable/user_guide/indexing.html#returning-a-view-versus-a-copy\n",
      "  data_new['timestamp'] = pd.to_datetime(data_new['timestamp'])\n"
     ]
    }
   ],
   "source": [
    "# Isolating the different days \n",
    "data_new['timestamp'] = pd.to_datetime(data_new['timestamp'])"
   ]
  },
  {
   "cell_type": "code",
   "execution_count": 240,
   "metadata": {},
   "outputs": [],
   "source": [
    "# Now we get the total number of tweets for each day and store it in a list called day_counts\n",
    "\n",
    "day_counts = []\n",
    "day_data = []\n",
    "user_counts = []\n",
    "\n",
    "for ud in unique_days:\n",
    "    count = data_new.loc[data_new['timestamp'] == ud]\n",
    "    day_data.append(count)\n",
    "    day_counts.append(count.shape[0])\n",
    "    \n",
    "for dd in range(len(day_data)):\n",
    "    cc = day_data[dd]['user_id']\n",
    "    user_counts.append(len(cc.unique()))"
   ]
  },
  {
   "cell_type": "code",
   "execution_count": 241,
   "metadata": {},
   "outputs": [
    {
     "data": {
      "text/plain": [
       "[169, 381, 300, 286, 279, 237, 307]"
      ]
     },
     "execution_count": 241,
     "metadata": {},
     "output_type": "execute_result"
    }
   ],
   "source": [
    "# The tweet count for each day\n",
    "day_counts"
   ]
  },
  {
   "cell_type": "code",
   "execution_count": 242,
   "metadata": {},
   "outputs": [
    {
     "data": {
      "text/plain": [
       "[125, 303, 230, 197, 177, 185, 214]"
      ]
     },
     "execution_count": 242,
     "metadata": {},
     "output_type": "execute_result"
    }
   ],
   "source": [
    "user_counts"
   ]
  },
  {
   "cell_type": "code",
   "execution_count": 243,
   "metadata": {},
   "outputs": [],
   "source": [
    "%matplotlib inline\n",
    "rcParams['figure.figsize'] = 16, 5\n",
    "sb.set_style('whitegrid')"
   ]
  },
  {
   "cell_type": "code",
   "execution_count": 244,
   "metadata": {
    "scrolled": true
   },
   "outputs": [
    {
     "data": {
      "image/png": "[encoded data removed]",
      "text/plain": [
       "<Figure size 1152x360 with 1 Axes>"
      ]
     },
     "metadata": {},
     "output_type": "display_data"
    }
   ],
   "source": [
    "# Plot the values using pyplot\n",
    "x = np.array(unique_days)\n",
    "\n",
    "fig, ax = plt.subplots()\n",
    "\n",
    "width = 0.35\n",
    "rects1 = ax.bar(x, day_counts, width, color='indigo')\n",
    "ax.grid(False)\n",
    "\n",
    "def autolabel(rects):\n",
    "    \"\"\"Attach a text label above each bar and displaying its height.\"\"\"\n",
    "    for rect in rects:\n",
    "        height = rect.get_height()\n",
    "        ax.annotate('{}'.format(height),\n",
    "                    xy=(rect.get_x() + rect.get_width() / 2, height),\n",
    "                    xytext=(0, 3),\n",
    "                    textcoords=\"offset points\",\n",
    "                    ha='center', va='bottom')\n",
    "\n",
    "autolabel(rects1)\n",
    "\n",
    "# Set lables and title\n",
    "plt.xlabel(\"Day of Tweet\")\n",
    "plt.ylabel(\"Number of Tweets\")\n",
    "plt.title(\"Displaying The Number of Tweets Per Day\")\n",
    "\n",
    "# Save a copy of the chart in the chart folder\n",
    "plt.savefig('charts/' + dataset_title + '-visualization-number-of-tweets')"
   ]
  },
  {
   "cell_type": "code",
   "execution_count": 245,
   "metadata": {},
   "outputs": [
    {
     "data": {
      "image/png": "[encoded data removed]",
      "text/plain": [
       "<Figure size 1152x360 with 1 Axes>"
      ]
     },
     "metadata": {},
     "output_type": "display_data"
    }
   ],
   "source": [
    "x = np.array(unique_days)\n",
    "\n",
    "fig, ax = plt.subplots()\n",
    "\n",
    "width = 0.35 \n",
    "rects1 = ax.bar(x, user_counts, width, color='indigo')\n",
    "ax.grid(False)\n",
    "\n",
    "def autolabel(rects):\n",
    "    \"\"\"Attach a text label above each bar and displaying its height.\"\"\"\n",
    "    for rect in rects:\n",
    "        height = rect.get_height()\n",
    "        ax.annotate('{}'.format(height),\n",
    "                    xy=(rect.get_x() + rect.get_width() / 2, height),\n",
    "                    xytext=(0, 3),\n",
    "                    textcoords=\"offset points\",\n",
    "                    ha='center', va='bottom')\n",
    "\n",
    "autolabel(rects1)\n",
    "\n",
    "# Set lables and title\n",
    "plt.xlabel(\"Day of Tweet\")\n",
    "plt.ylabel(\"Number of Users\")\n",
    "plt.title(\"Displaying The Number of Users Per Day\")\n",
    "\n",
    "# Save a copy of the chart in the chart folder\n",
    "plt.savefig('charts/' + dataset_title + '-visualization-number-of-users.png')"
   ]
  },
  {
   "cell_type": "code",
   "execution_count": 246,
   "metadata": {},
   "outputs": [
    {
     "data": {
      "image/png": "[encoded data removed]",
      "text/plain": [
       "<Figure size 1152x360 with 1 Axes>"
      ]
     },
     "metadata": {},
     "output_type": "display_data"
    }
   ],
   "source": [
    "x = np.array(unique_days)\n",
    "# y = np.array(user_counts)\n",
    "\n",
    "fig, ax = plt.subplots()\n",
    "\n",
    "labels = pd.to_datetime(unique_days)\n",
    "\n",
    "x = np.arange(len(labels))\n",
    "\n",
    "width = 0.35\n",
    "rects1 = ax.bar(x - width/2, user_counts, width, color='teal', label='Number of Users')\n",
    "rects2 = ax.bar(x + width/2, day_counts, width, color='blue', label='Number of Tweets')\n",
    "\n",
    "ax.set_xticks(x)\n",
    "ax.set_xticklabels(labels)\n",
    "ax.grid(False)\n",
    "ax.legend()\n",
    "ax.set_ylabel('Number of Users & Tweets')\n",
    "ax.set_xlabel('Date of Tweet')\n",
    "ax.set_title('Comparing The Number of Users & Tweets Per Day')\n",
    "\n",
    "# Attach a text label above each bar and displaying its height\n",
    "def autolabel(rects):\n",
    "    for rect in rects:\n",
    "        height = rect.get_height()\n",
    "        ax.annotate('{}'.format(height),\n",
    "                    xy=(rect.get_x() + rect.get_width() / 2, height),\n",
    "                    xytext=(0, 3),\n",
    "                    textcoords=\"offset points\",\n",
    "                    ha='center', va='bottom')\n",
    "\n",
    "autolabel(rects1)\n",
    "autolabel(rects2)\n",
    "\n",
    "# Save a copy of the chart in the chart folder\n",
    "plt.savefig('charts/' + dataset_title + '-visualization-number-of-users-and-tweets.png')"
   ]
  }
 ],
 "metadata": {
  "kernelspec": {
   "display_name": "Python 3",
   "language": "python",
   "name": "python3"
  },
  "language_info": {
   "codemirror_mode": {
    "name": "ipython",
    "version": 3
   },
   "file_extension": ".py",
   "mimetype": "text/x-python",
   "name": "python",
   "nbconvert_exporter": "python",
   "pygments_lexer": "ipython3",
   "version": "3.8.5"
  }
 },
 "nbformat": 4,
 "nbformat_minor": 4
}
